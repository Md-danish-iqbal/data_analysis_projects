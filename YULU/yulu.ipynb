{
 "cells": [
  {
   "cell_type": "code",
   "execution_count": 1,
   "id": "aba90729",
   "metadata": {},
   "outputs": [],
   "source": [
    "import matplotlib.pyplot as plt\n",
    "import seaborn as sns\n",
    "from scipy.stats import ttest_ind,f_oneway,chi2_contingency"
   ]
  },
  {
   "cell_type": "markdown",
   "id": "f23f8cf5",
   "metadata": {},
   "source": [
    "# Exploratory data analysis "
   ]
  },
  {
   "cell_type": "markdown",
   "id": "ae925d55",
   "metadata": {},
   "source": [
    "1. Importing the Dataset:"
   ]
  },
  {
   "cell_type": "code",
   "execution_count": 2,
   "id": "ed6800a5",
   "metadata": {},
   "outputs": [
    {
     "data": {
      "text/html": [
       "<div>\n",
       "<style scoped>\n",
       "    .dataframe tbody tr th:only-of-type {\n",
       "        vertical-align: middle;\n",
       "    }\n",
       "\n",
       "    .dataframe tbody tr th {\n",
       "        vertical-align: top;\n",
       "    }\n",
       "\n",
       "    .dataframe thead th {\n",
       "        text-align: right;\n",
       "    }\n",
       "</style>\n",
       "<table border=\"1\" class=\"dataframe\">\n",
       "  <thead>\n",
       "    <tr style=\"text-align: right;\">\n",
       "      <th></th>\n",
       "      <th>datetime</th>\n",
       "      <th>season</th>\n",
       "      <th>holiday</th>\n",
       "      <th>workingday</th>\n",
       "      <th>weather</th>\n",
       "      <th>temp</th>\n",
       "      <th>atemp</th>\n",
       "      <th>humidity</th>\n",
       "      <th>windspeed</th>\n",
       "      <th>casual</th>\n",
       "      <th>registered</th>\n",
       "      <th>count</th>\n",
       "    </tr>\n",
       "  </thead>\n",
       "  <tbody>\n",
       "    <tr>\n",
       "      <th>0</th>\n",
       "      <td>2011-01-01 00:00:00</td>\n",
       "      <td>1</td>\n",
       "      <td>0</td>\n",
       "      <td>0</td>\n",
       "      <td>1</td>\n",
       "      <td>9.84</td>\n",
       "      <td>14.395</td>\n",
       "      <td>81</td>\n",
       "      <td>0.0</td>\n",
       "      <td>3</td>\n",
       "      <td>13</td>\n",
       "      <td>16</td>\n",
       "    </tr>\n",
       "    <tr>\n",
       "      <th>1</th>\n",
       "      <td>2011-01-01 01:00:00</td>\n",
       "      <td>1</td>\n",
       "      <td>0</td>\n",
       "      <td>0</td>\n",
       "      <td>1</td>\n",
       "      <td>9.02</td>\n",
       "      <td>13.635</td>\n",
       "      <td>80</td>\n",
       "      <td>0.0</td>\n",
       "      <td>8</td>\n",
       "      <td>32</td>\n",
       "      <td>40</td>\n",
       "    </tr>\n",
       "    <tr>\n",
       "      <th>2</th>\n",
       "      <td>2011-01-01 02:00:00</td>\n",
       "      <td>1</td>\n",
       "      <td>0</td>\n",
       "      <td>0</td>\n",
       "      <td>1</td>\n",
       "      <td>9.02</td>\n",
       "      <td>13.635</td>\n",
       "      <td>80</td>\n",
       "      <td>0.0</td>\n",
       "      <td>5</td>\n",
       "      <td>27</td>\n",
       "      <td>32</td>\n",
       "    </tr>\n",
       "    <tr>\n",
       "      <th>3</th>\n",
       "      <td>2011-01-01 03:00:00</td>\n",
       "      <td>1</td>\n",
       "      <td>0</td>\n",
       "      <td>0</td>\n",
       "      <td>1</td>\n",
       "      <td>9.84</td>\n",
       "      <td>14.395</td>\n",
       "      <td>75</td>\n",
       "      <td>0.0</td>\n",
       "      <td>3</td>\n",
       "      <td>10</td>\n",
       "      <td>13</td>\n",
       "    </tr>\n",
       "    <tr>\n",
       "      <th>4</th>\n",
       "      <td>2011-01-01 04:00:00</td>\n",
       "      <td>1</td>\n",
       "      <td>0</td>\n",
       "      <td>0</td>\n",
       "      <td>1</td>\n",
       "      <td>9.84</td>\n",
       "      <td>14.395</td>\n",
       "      <td>75</td>\n",
       "      <td>0.0</td>\n",
       "      <td>0</td>\n",
       "      <td>1</td>\n",
       "      <td>1</td>\n",
       "    </tr>\n",
       "  </tbody>\n",
       "</table>\n",
       "</div>"
      ],
      "text/plain": [
       "              datetime  season  holiday  workingday  weather  temp   atemp  \\\n",
       "0  2011-01-01 00:00:00       1        0           0        1  9.84  14.395   \n",
       "1  2011-01-01 01:00:00       1        0           0        1  9.02  13.635   \n",
       "2  2011-01-01 02:00:00       1        0           0        1  9.02  13.635   \n",
       "3  2011-01-01 03:00:00       1        0           0        1  9.84  14.395   \n",
       "4  2011-01-01 04:00:00       1        0           0        1  9.84  14.395   \n",
       "\n",
       "   humidity  windspeed  casual  registered  count  \n",
       "0        81        0.0       3          13     16  \n",
       "1        80        0.0       8          32     40  \n",
       "2        80        0.0       5          27     32  \n",
       "3        75        0.0       3          10     13  \n",
       "4        75        0.0       0           1      1  "
      ]
     },
     "execution_count": 2,
     "metadata": {},
     "output_type": "execute_result"
    }
   ],
   "source": [
    "import pandas as pd\n",
    "\n",
    "# Load the dataset\n",
    "df = pd.read_csv('yulu_data.csv')\n",
    "\n",
    "# Display the first few rows of the dataset to get a glimpse of the data\n",
    "df.head()"
   ]
  },
  {
   "cell_type": "markdown",
   "id": "6e1e6fb9",
   "metadata": {},
   "source": [
    "2. Checking the Structure & Characteristics:\n",
    "    - Dataset Shape:"
   ]
  },
  {
   "cell_type": "code",
   "execution_count": 3,
   "id": "6326dff0",
   "metadata": {},
   "outputs": [
    {
     "name": "stdout",
     "output_type": "stream",
     "text": [
      "Data Types:\n",
      "datetime       object\n",
      "season          int64\n",
      "holiday         int64\n",
      "workingday      int64\n",
      "weather         int64\n",
      "temp          float64\n",
      "atemp         float64\n",
      "humidity        int64\n",
      "windspeed     float64\n",
      "casual          int64\n",
      "registered      int64\n",
      "count           int64\n",
      "dtype: object\n"
     ]
    }
   ],
   "source": [
    "# Check data types of columns\n",
    "print(\"Data Types:\")\n",
    "print(df.dtypes)"
   ]
  },
  {
   "cell_type": "markdown",
   "id": "e2cb52f8",
   "metadata": {},
   "source": [
    "- Data Types:"
   ]
  },
  {
   "cell_type": "code",
   "execution_count": 4,
   "id": "df274d46",
   "metadata": {},
   "outputs": [
    {
     "name": "stdout",
     "output_type": "stream",
     "text": [
      "Data Types:\n",
      "datetime       object\n",
      "season          int64\n",
      "holiday         int64\n",
      "workingday      int64\n",
      "weather         int64\n",
      "temp          float64\n",
      "atemp         float64\n",
      "humidity        int64\n",
      "windspeed     float64\n",
      "casual          int64\n",
      "registered      int64\n",
      "count           int64\n",
      "dtype: object\n"
     ]
    }
   ],
   "source": [
    "# Check data types of columns\n",
    "print(\"Data Types:\")\n",
    "print(df.dtypes)"
   ]
  },
  {
   "cell_type": "markdown",
   "id": "a462a9f4",
   "metadata": {},
   "source": [
    "- Missing Values:"
   ]
  },
  {
   "cell_type": "code",
   "execution_count": 5,
   "id": "9e6594fe",
   "metadata": {},
   "outputs": [
    {
     "name": "stdout",
     "output_type": "stream",
     "text": [
      "Missing Values:\n",
      "datetime      0\n",
      "season        0\n",
      "holiday       0\n",
      "workingday    0\n",
      "weather       0\n",
      "temp          0\n",
      "atemp         0\n",
      "humidity      0\n",
      "windspeed     0\n",
      "casual        0\n",
      "registered    0\n",
      "count         0\n",
      "dtype: int64\n"
     ]
    }
   ],
   "source": [
    "# Check for missing values\n",
    "print(\"Missing Values:\")\n",
    "print(df.isnull().sum())"
   ]
  },
  {
   "cell_type": "markdown",
   "id": "e52bf8eb",
   "metadata": {},
   "source": [
    "- Statistical Summary:"
   ]
  },
  {
   "cell_type": "code",
   "execution_count": 6,
   "id": "3a29b7ca",
   "metadata": {},
   "outputs": [
    {
     "name": "stdout",
     "output_type": "stream",
     "text": [
      "Statistical Summary:\n"
     ]
    },
    {
     "data": {
      "text/html": [
       "<div>\n",
       "<style scoped>\n",
       "    .dataframe tbody tr th:only-of-type {\n",
       "        vertical-align: middle;\n",
       "    }\n",
       "\n",
       "    .dataframe tbody tr th {\n",
       "        vertical-align: top;\n",
       "    }\n",
       "\n",
       "    .dataframe thead th {\n",
       "        text-align: right;\n",
       "    }\n",
       "</style>\n",
       "<table border=\"1\" class=\"dataframe\">\n",
       "  <thead>\n",
       "    <tr style=\"text-align: right;\">\n",
       "      <th></th>\n",
       "      <th>season</th>\n",
       "      <th>holiday</th>\n",
       "      <th>workingday</th>\n",
       "      <th>weather</th>\n",
       "      <th>temp</th>\n",
       "      <th>atemp</th>\n",
       "      <th>humidity</th>\n",
       "      <th>windspeed</th>\n",
       "      <th>casual</th>\n",
       "      <th>registered</th>\n",
       "      <th>count</th>\n",
       "    </tr>\n",
       "  </thead>\n",
       "  <tbody>\n",
       "    <tr>\n",
       "      <th>count</th>\n",
       "      <td>10886.000000</td>\n",
       "      <td>10886.000000</td>\n",
       "      <td>10886.000000</td>\n",
       "      <td>10886.000000</td>\n",
       "      <td>10886.00000</td>\n",
       "      <td>10886.000000</td>\n",
       "      <td>10886.000000</td>\n",
       "      <td>10886.000000</td>\n",
       "      <td>10886.000000</td>\n",
       "      <td>10886.000000</td>\n",
       "      <td>10886.000000</td>\n",
       "    </tr>\n",
       "    <tr>\n",
       "      <th>mean</th>\n",
       "      <td>2.506614</td>\n",
       "      <td>0.028569</td>\n",
       "      <td>0.680875</td>\n",
       "      <td>1.418427</td>\n",
       "      <td>20.23086</td>\n",
       "      <td>23.655084</td>\n",
       "      <td>61.886460</td>\n",
       "      <td>12.799395</td>\n",
       "      <td>36.021955</td>\n",
       "      <td>155.552177</td>\n",
       "      <td>191.574132</td>\n",
       "    </tr>\n",
       "    <tr>\n",
       "      <th>std</th>\n",
       "      <td>1.116174</td>\n",
       "      <td>0.166599</td>\n",
       "      <td>0.466159</td>\n",
       "      <td>0.633839</td>\n",
       "      <td>7.79159</td>\n",
       "      <td>8.474601</td>\n",
       "      <td>19.245033</td>\n",
       "      <td>8.164537</td>\n",
       "      <td>49.960477</td>\n",
       "      <td>151.039033</td>\n",
       "      <td>181.144454</td>\n",
       "    </tr>\n",
       "    <tr>\n",
       "      <th>min</th>\n",
       "      <td>1.000000</td>\n",
       "      <td>0.000000</td>\n",
       "      <td>0.000000</td>\n",
       "      <td>1.000000</td>\n",
       "      <td>0.82000</td>\n",
       "      <td>0.760000</td>\n",
       "      <td>0.000000</td>\n",
       "      <td>0.000000</td>\n",
       "      <td>0.000000</td>\n",
       "      <td>0.000000</td>\n",
       "      <td>1.000000</td>\n",
       "    </tr>\n",
       "    <tr>\n",
       "      <th>25%</th>\n",
       "      <td>2.000000</td>\n",
       "      <td>0.000000</td>\n",
       "      <td>0.000000</td>\n",
       "      <td>1.000000</td>\n",
       "      <td>13.94000</td>\n",
       "      <td>16.665000</td>\n",
       "      <td>47.000000</td>\n",
       "      <td>7.001500</td>\n",
       "      <td>4.000000</td>\n",
       "      <td>36.000000</td>\n",
       "      <td>42.000000</td>\n",
       "    </tr>\n",
       "    <tr>\n",
       "      <th>50%</th>\n",
       "      <td>3.000000</td>\n",
       "      <td>0.000000</td>\n",
       "      <td>1.000000</td>\n",
       "      <td>1.000000</td>\n",
       "      <td>20.50000</td>\n",
       "      <td>24.240000</td>\n",
       "      <td>62.000000</td>\n",
       "      <td>12.998000</td>\n",
       "      <td>17.000000</td>\n",
       "      <td>118.000000</td>\n",
       "      <td>145.000000</td>\n",
       "    </tr>\n",
       "    <tr>\n",
       "      <th>75%</th>\n",
       "      <td>4.000000</td>\n",
       "      <td>0.000000</td>\n",
       "      <td>1.000000</td>\n",
       "      <td>2.000000</td>\n",
       "      <td>26.24000</td>\n",
       "      <td>31.060000</td>\n",
       "      <td>77.000000</td>\n",
       "      <td>16.997900</td>\n",
       "      <td>49.000000</td>\n",
       "      <td>222.000000</td>\n",
       "      <td>284.000000</td>\n",
       "    </tr>\n",
       "    <tr>\n",
       "      <th>max</th>\n",
       "      <td>4.000000</td>\n",
       "      <td>1.000000</td>\n",
       "      <td>1.000000</td>\n",
       "      <td>4.000000</td>\n",
       "      <td>41.00000</td>\n",
       "      <td>45.455000</td>\n",
       "      <td>100.000000</td>\n",
       "      <td>56.996900</td>\n",
       "      <td>367.000000</td>\n",
       "      <td>886.000000</td>\n",
       "      <td>977.000000</td>\n",
       "    </tr>\n",
       "  </tbody>\n",
       "</table>\n",
       "</div>"
      ],
      "text/plain": [
       "             season       holiday    workingday       weather         temp  \\\n",
       "count  10886.000000  10886.000000  10886.000000  10886.000000  10886.00000   \n",
       "mean       2.506614      0.028569      0.680875      1.418427     20.23086   \n",
       "std        1.116174      0.166599      0.466159      0.633839      7.79159   \n",
       "min        1.000000      0.000000      0.000000      1.000000      0.82000   \n",
       "25%        2.000000      0.000000      0.000000      1.000000     13.94000   \n",
       "50%        3.000000      0.000000      1.000000      1.000000     20.50000   \n",
       "75%        4.000000      0.000000      1.000000      2.000000     26.24000   \n",
       "max        4.000000      1.000000      1.000000      4.000000     41.00000   \n",
       "\n",
       "              atemp      humidity     windspeed        casual    registered  \\\n",
       "count  10886.000000  10886.000000  10886.000000  10886.000000  10886.000000   \n",
       "mean      23.655084     61.886460     12.799395     36.021955    155.552177   \n",
       "std        8.474601     19.245033      8.164537     49.960477    151.039033   \n",
       "min        0.760000      0.000000      0.000000      0.000000      0.000000   \n",
       "25%       16.665000     47.000000      7.001500      4.000000     36.000000   \n",
       "50%       24.240000     62.000000     12.998000     17.000000    118.000000   \n",
       "75%       31.060000     77.000000     16.997900     49.000000    222.000000   \n",
       "max       45.455000    100.000000     56.996900    367.000000    886.000000   \n",
       "\n",
       "              count  \n",
       "count  10886.000000  \n",
       "mean     191.574132  \n",
       "std      181.144454  \n",
       "min        1.000000  \n",
       "25%       42.000000  \n",
       "50%      145.000000  \n",
       "75%      284.000000  \n",
       "max      977.000000  "
      ]
     },
     "execution_count": 6,
     "metadata": {},
     "output_type": "execute_result"
    }
   ],
   "source": [
    "# Get a statistical summary of numerical columns\n",
    "print(\"Statistical Summary:\")\n",
    "df.describe()"
   ]
  },
  {
   "cell_type": "markdown",
   "id": "d2d1aab2",
   "metadata": {},
   "source": [
    "- Distribution Plots for Numerical Variables:"
   ]
  },
  {
   "cell_type": "code",
   "execution_count": 7,
   "id": "8282057a",
   "metadata": {},
   "outputs": [
    {
     "data": {
      "image/png": "[encoded data removed]",
      "text/plain": [
       "<Figure size 1200x800 with 1 Axes>"
      ]
     },
     "metadata": {},
     "output_type": "display_data"
    }
   ],
   "source": [
    "# Create distribution plots for numerical variables\n",
    "plt.figure(figsize=(12, 8))\n",
    "sns.histplot(df['temp'], bins=30, kde=True, color='blue', label='Temperature')\n",
    "plt.title('Distribution of Temperature')\n",
    "plt.xlabel('Temperature (Celsius)')\n",
    "plt.ylabel('Frequency')\n",
    "plt.legend()\n",
    "plt.show()"
   ]
  },
  {
   "cell_type": "markdown",
   "id": "de5d6c53",
   "metadata": {},
   "source": [
    "- Bar Plots for Categorical Variables:"
   ]
  },
  {
   "cell_type": "code",
   "execution_count": 8,
   "id": "4bc0e252",
   "metadata": {},
   "outputs": [
    {
     "data": {
      "image/png": "[encoded data removed]",
      "text/plain": [
       "<Figure size 1200x800 with 1 Axes>"
      ]
     },
     "metadata": {},
     "output_type": "display_data"
    }
   ],
   "source": [
    "# Create bar plots for categorical variables\n",
    "plt.figure(figsize=(12, 8))\n",
    "sns.countplot(data=df, x='season', palette='Set1')\n",
    "plt.title('Season Distribution')\n",
    "plt.xlabel('Season')\n",
    "plt.ylabel('Count')\n",
    "plt.show()"
   ]
  },
  {
   "cell_type": "markdown",
   "id": "7de47189",
   "metadata": {},
   "source": [
    "# Relation between the dependent and independent variable:"
   ]
  },
  {
   "cell_type": "markdown",
   "id": "f44e56ec",
   "metadata": {},
   "source": [
    "1. Relation with Workingday (Categorical Variable):"
   ]
  },
  {
   "cell_type": "code",
   "execution_count": 9,
   "id": "e0606ee1",
   "metadata": {},
   "outputs": [
    {
     "data": {
      "image/png": "[encoded data removed]",
      "text/plain": [
       "<Figure size 800x600 with 1 Axes>"
      ]
     },
     "metadata": {},
     "output_type": "display_data"
    }
   ],
   "source": [
    "# Boxplot for Count vs. Workingday\n",
    "plt.figure(figsize=(8, 6))\n",
    "sns.boxplot(data=df, x='workingday', y='count')\n",
    "plt.title('Demand Variation on Working Days vs. Non-Working Days')\n",
    "plt.xlabel('Workingday')\n",
    "plt.ylabel('Count')\n",
    "plt.show()"
   ]
  },
  {
   "cell_type": "markdown",
   "id": "f1a11bca",
   "metadata": {},
   "source": [
    "- t-test to formally test whether the means of the \"Count\" variable are significantly different between working days and non-working days"
   ]
  },
  {
   "cell_type": "code",
   "execution_count": 10,
   "id": "7e64f9d5",
   "metadata": {},
   "outputs": [
    {
     "name": "stdout",
     "output_type": "stream",
     "text": [
      "2-Sample T-Test Results:\n",
      "t-statistic: -1.2096277376026694\n",
      "p-value: 0.22644804226361348\n"
     ]
    }
   ],
   "source": [
    "workingday0 = df[df['workingday'] == 0]['count']\n",
    "workingday1 = df[df['workingday'] == 1]['count']\n",
    "\n",
    "t_stat, p_value = ttest_ind(workingday0, workingday1)\n",
    "\n",
    "print(\"2-Sample T-Test Results:\")\n",
    "print(\"t-statistic:\", t_stat)\n",
    "print(\"p-value:\", p_value)"
   ]
  },
  {
   "cell_type": "markdown",
   "id": "5a9df328",
   "metadata": {},
   "source": [
    "2. Relation with Weather (Categorical Variable):"
   ]
  },
  {
   "cell_type": "code",
   "execution_count": 11,
   "id": "28c3a6f9",
   "metadata": {},
   "outputs": [
    {
     "data": {
      "image/png": "[encoded data removed]",
      "text/plain": [
       "<Figure size 1000x600 with 1 Axes>"
      ]
     },
     "metadata": {},
     "output_type": "display_data"
    }
   ],
   "source": [
    "# Boxplot for Count vs. Weather\n",
    "plt.figure(figsize=(10, 6))\n",
    "sns.boxplot(data=df, x='weather', y='count')\n",
    "plt.title('Demand Variation with Weather Conditions')\n",
    "plt.xlabel('Weather')\n",
    "plt.ylabel('Count')\n",
    "plt.show()"
   ]
  },
  {
   "cell_type": "code",
   "execution_count": 12,
   "id": "76ed2e95",
   "metadata": {},
   "outputs": [
    {
     "name": "stdout",
     "output_type": "stream",
     "text": [
      "ANOVA Results:\n",
      "F-statistic: 65.53024112793271\n",
      "p-value: 5.482069475935669e-42\n"
     ]
    }
   ],
   "source": [
    "weather_groups = [df[df['weather'] == i]['count'] for i in df['weather'].unique()]\n",
    "f_stat, p_value = f_oneway(*weather_groups)\n",
    "\n",
    "print(\"ANOVA Results:\")\n",
    "print(\"F-statistic:\", f_stat)\n",
    "print(\"p-value:\", p_value)"
   ]
  },
  {
   "cell_type": "markdown",
   "id": "e9358e3d",
   "metadata": {},
   "source": [
    "3. Relation with Season (Categorical Variable):"
   ]
  },
  {
   "cell_type": "code",
   "execution_count": 13,
   "id": "0d2bba3d",
   "metadata": {},
   "outputs": [
    {
     "data": {
      "image/png": "[encoded data removed]",
      "text/plain": [
       "<Figure size 1000x600 with 1 Axes>"
      ]
     },
     "metadata": {},
     "output_type": "display_data"
    }
   ],
   "source": [
    "# Boxplot for Count vs. Season\n",
    "plt.figure(figsize=(10, 6))\n",
    "sns.boxplot(data=df, x='season', y='count')\n",
    "plt.title('Demand Variation with Seasons')\n",
    "plt.xlabel('Season')\n",
    "plt.ylabel('Count')\n",
    "plt.show()"
   ]
  },
  {
   "cell_type": "markdown",
   "id": "ca59da31",
   "metadata": {},
   "source": [
    "- To formally test for differences in demand across seasons, you can also use ANOVA:"
   ]
  },
  {
   "cell_type": "code",
   "execution_count": 14,
   "id": "0bc6c87e",
   "metadata": {},
   "outputs": [
    {
     "name": "stdout",
     "output_type": "stream",
     "text": [
      "ANOVA Results (Seasons):\n",
      "F-statistic: 236.94671081032106\n",
      "p-value: 6.164843386499654e-149\n"
     ]
    }
   ],
   "source": [
    "season_groups = [df[df['season'] == i]['count'] for i in df['season'].unique()]\n",
    "f_stat_season, p_value_season = f_oneway(*season_groups)\n",
    "\n",
    "print(\"ANOVA Results (Seasons):\")\n",
    "print(\"F-statistic:\", f_stat_season)\n",
    "print(\"p-value:\", p_value_season)"
   ]
  },
  {
   "cell_type": "code",
   "execution_count": null,
   "id": "443d9a34",
   "metadata": {},
   "outputs": [],
   "source": []
  },
  {
   "cell_type": "markdown",
   "id": "28461015",
   "metadata": {},
   "source": [
    "#### 1. Working Day Effect on the Number of Electric Cycles Rented:\n",
    "\n",
    "    Appropriate Test: Two-Sample T-Test\n",
    "    Hypothesis:\n",
    "        Null Hypothesis (H0): There is no significant difference in the number of electric cycles rented between working days and non-working days.\n",
    "        Alternative Hypothesis (H1): There is a significant difference in the number of electric cycles rented between working days and non-working days.\n",
    "\n",
    "#### 2. Difference in the Number of Cycles Rented Across Different Seasons:\n",
    "\n",
    "    Appropriate Test: Analysis of Variance (ANOVA)\n",
    "    Hypothesis:\n",
    "        Null Hypothesis (H0): The number of cycles rented is the same across all seasons (spring, summer, fall, winter).\n",
    "        Alternative Hypothesis (H1): The number of cycles rented varies significantly across seasons.\n",
    "\n",
    "#### 3. Difference in the Number of Cycles Rented Across Different Weather Conditions:\n",
    "\n",
    "    Appropriate Test: Analysis of Variance (ANOVA)\n",
    "    Hypothesis:\n",
    "        Null Hypothesis (H0): The number of cycles rented is the same across all weather conditions.\n",
    "        Alternative Hypothesis (H1): The number of cycles rented varies significantly across weather conditions.\n",
    "\n",
    "#### 4. Dependency of Weather on Season (Chi-Square Test):\n",
    "\n",
    "    Appropriate Test: Chi-Square Test for Independence\n",
    "    Hypothesis:\n",
    "        Null Hypothesis (H0): Weather and season are independent (no relationship).\n",
    "        Alternative Hypothesis (H1): Weather and season are dependent (there is a relationship).\n",
    "\n",
    "For the Chi-Square Test, you will need to create a contingency table to compare the observed frequencies of weather and season to the expected frequencies under the assumption of independence. If the chi-square test results in a significant p-value, it suggests that there is a relationship between weather and season.\n",
    "\n",
    "Making sure to set significance level (alpha) before conducting these tests, typically at 0.05. After performing these tests, analyze the p-values to determine whether to reject or fail to reject the null hypotheses, and draw conclusions based on the results."
   ]
  },
  {
   "cell_type": "code",
   "execution_count": null,
   "id": "2a7761b9",
   "metadata": {},
   "outputs": [],
   "source": []
  },
  {
   "cell_type": "code",
   "execution_count": null,
   "id": "811126ac",
   "metadata": {},
   "outputs": [],
   "source": []
  },
  {
   "cell_type": "markdown",
   "id": "49ccf0e8",
   "metadata": {},
   "source": [
    "#### 1. Working Day Effect on the Number of Electric Cycles Rented (Two-Sample T-Test):\n",
    "\n",
    "    Null Hypothesis (H0): There is no significant difference in the number of electric cycles rented between working days and non-working days.\n",
    "\n",
    "#### 2. Difference in the Number of Cycles Rented Across Different Seasons (ANOVA):\n",
    "\n",
    "    Null Hypothesis (H0): The number of cycles rented is the same across all seasons (spring, summer, fall, winter).\n",
    "\n",
    "#### 3. Difference in the Number of Cycles Rented Across Different Weather Conditions (ANOVA):\n",
    "\n",
    "    Null Hypothesis (H0): The number of cycles rented is the same across all weather conditions.\n",
    "\n",
    "#### 4. Dependency of Weather on Season (Chi-Square Test for Independence):\n",
    "\n",
    "    Null Hypothesis (H0): Weather and season are independent (there is no relationship between them)."
   ]
  },
  {
   "cell_type": "code",
   "execution_count": null,
   "id": "9e1b86b8",
   "metadata": {},
   "outputs": [],
   "source": []
  },
  {
   "cell_type": "markdown",
   "id": "661fe56d",
   "metadata": {},
   "source": [
    "#### 1. Working Day Effect on the Number of Electric Cycles Rented (Two-Sample T-Test):\n",
    "   - Alternative Hypothesis (H1): There is a significant difference in the number of electric cycles rented between working days and non-working days.\n",
    "\n",
    "#### 2. Difference in the Number of Cycles Rented Across Different Seasons (ANOVA):\n",
    "   - Alternative Hypothesis (H1): The number of cycles rented varies significantly across seasons (spring, summer, fall, winter).\n",
    "\n",
    "#### 3. Difference in the Number of Cycles Rented Across Different Weather Conditions (ANOVA):\n",
    "   - Alternative Hypothesis (H1): The number of cycles rented varies significantly across weather conditions.\n",
    "\n",
    "#### 4. Dependency of Weather on Season (Chi-Square Test for Independence):\n",
    "   - Alternative Hypothesis (H1): Weather and season are dependent (there is a relationship between them).\n",
    "\n",
    "These alternative hypotheses represent the claims that you are testing for significance. In hypothesis testing, you evaluate the evidence in the data to determine whether there is enough support to reject the null hypothesis in favor of the alternative hypothesis. The significance level (alpha) you choose will determine the threshold for determining whether the data provides sufficient evidence to support the alternative hypotheses."
   ]
  },
  {
   "cell_type": "code",
   "execution_count": null,
   "id": "1ed236a8",
   "metadata": {},
   "outputs": [],
   "source": []
  },
  {
   "cell_type": "markdown",
   "id": "6a883ea3",
   "metadata": {},
   "source": [
    "Certainly, checking the assumptions of the statistical tests is an important step in hypothesis testing. Let's go through each test and its associated assumptions, including normality and equal variance, and how to check them:\n",
    "\n",
    "#### 1. Working Day Effect on the Number of Electric Cycles Rented (Two-Sample T-Test):**\n",
    "\n",
    "   - Assumption 1: **Normality** of Data\n",
    "     - You can visually check the normality assumption using a histogram and a Q-Q plot. Additionally, you can use the Shapiro-Wilk test for a formal assessment. If the data is not perfectly normal but not severely skewed or has extreme outliers, the t-test can still be robust.\n",
    "\n",
    "#### 2. Difference in the Number of Cycles Rented Across Different Seasons (ANOVA):**\n",
    "\n",
    "   - Assumption 1: **Normality** of Data\n",
    "     - Check the normality assumption for each season's data using histograms, Q-Q plots, or the Shapiro-Wilk test.\n",
    "\n",
    "   - Assumption 2: **Equal Variance (Homoscedasticity)**\n",
    "     - You can visually check equal variance by creating boxplots for each season's data. Additionally, you can perform Levene's test for formal assessment.\n",
    "\n",
    "#### 3. Difference in the Number of Cycles Rented Across Different Weather Conditions (ANOVA):**\n",
    "\n",
    "   - Assumption 1: **Normality** of Data\n",
    "     - Check the normality assumption for each weather condition's data using histograms, Q-Q plots, or the Shapiro-Wilk test.\n",
    "\n",
    "   - Assumption 2: **Equal Variance (Homoscedasticity)**\n",
    "     - You can visually check equal variance by creating boxplots for each weather condition's data. Additionally, you can perform Levene's test for formal assessment.\n",
    "\n",
    "#### 4. Dependency of Weather on Season (Chi-Square Test for Independence):**\n",
    "\n",
    "   - Assumption 1: **Independence**\n",
    "     - The chi-square test assumes that the observations are independent.\n",
    "\n",
    "To address the assumptions:\n",
    "\n",
    "- If normality assumptions fail (based on both visual inspection and statistical tests like Shapiro-Wilk), you can consider non-parametric alternatives or transformations of the data if appropriate.\n",
    "- If equal variance (homoscedasticity) assumptions fail (based on visual inspection or Levene's test), you can consider Welch's ANOVA or non-parametric alternatives.\n",
    "\n",
    "It's important to mention whether the assumptions were met or violated and how you proceeded with the analysis in your report. Additionally, provide visualizations to support your assessment of assumptions. Violation of assumptions may affect the interpretation of the test results, so it's essential to address them appropriately."
   ]
  },
  {
   "cell_type": "markdown",
   "id": "43c48952",
   "metadata": {},
   "source": []
  },
  {
   "cell_type": "code",
   "execution_count": null,
   "id": "7657e616",
   "metadata": {},
   "outputs": [],
   "source": []
  },
  {
   "cell_type": "code",
   "execution_count": null,
   "id": "3e215ece",
   "metadata": {},
   "outputs": [],
   "source": []
  },
  {
   "cell_type": "markdown",
   "id": "2d62412b",
   "metadata": {},
   "source": [
    "Working Day Effect on the Number of Electric Cycles Rented (Two-Sample T-Test)"
   ]
  },
  {
   "cell_type": "code",
   "execution_count": 15,
   "id": "5cb600b6",
   "metadata": {},
   "outputs": [
    {
     "name": "stdout",
     "output_type": "stream",
     "text": [
      "p_value < alpha: False\n",
      "fail to reject the null hypothesis with p_value : 0.22644804226361348\n"
     ]
    }
   ],
   "source": [
    "# Perform the 2-sample t-test\n",
    "t_stat, p_value = ttest_ind(workingday0, workingday1)\n",
    "\n",
    "print(f\"p_value < alpha: {p_value<0.05}\")\n",
    "print(\"fail to reject the null hypothesis with p_value :\",p_value)\n",
    "\n",
    "# Decision:\n",
    "\n",
    "#     If p_value < alpha, reject the null hypothesis.\n",
    "#     If p_value >= alpha, fail to reject the null hypothesis.\n",
    "\n",
    "# Inference:\n",
    "\n",
    "#     If the null hypothesis is rejected, you can conclude that there is a significant \n",
    "#    difference in the number of electric cycles rented between working days and non-working days."
   ]
  },
  {
   "cell_type": "code",
   "execution_count": 16,
   "id": "0ca72eb0",
   "metadata": {},
   "outputs": [
    {
     "name": "stdout",
     "output_type": "stream",
     "text": [
      "p_value_weather < alpha: True\n"
     ]
    },
    {
     "ename": "NameError",
     "evalue": "name 'p_value_weather' is not defined",
     "output_type": "error",
     "traceback": [
      "\u001b[1;31m---------------------------------------------------------------------------\u001b[0m",
      "\u001b[1;31mNameError\u001b[0m                                 Traceback (most recent call last)",
      "Cell \u001b[1;32mIn[16], line 5\u001b[0m\n\u001b[0;32m      2\u001b[0m f_stat, p_value_season \u001b[38;5;241m=\u001b[39m f_oneway(\u001b[38;5;241m*\u001b[39mseason_groups)\n\u001b[0;32m      4\u001b[0m \u001b[38;5;28mprint\u001b[39m(\u001b[38;5;124mf\u001b[39m\u001b[38;5;124m\"\u001b[39m\u001b[38;5;124mp_value_weather < alpha: \u001b[39m\u001b[38;5;132;01m{\u001b[39;00mp_value_season\u001b[38;5;241m<\u001b[39m\u001b[38;5;241m0.05\u001b[39m\u001b[38;5;132;01m}\u001b[39;00m\u001b[38;5;124m\"\u001b[39m)\n\u001b[1;32m----> 5\u001b[0m \u001b[38;5;28mprint\u001b[39m(\u001b[38;5;124m\"\u001b[39m\u001b[38;5;124mreject the null hypothesis with p_value_weather :\u001b[39m\u001b[38;5;124m\"\u001b[39m,\u001b[43mp_value_weather\u001b[49m)\n",
      "\u001b[1;31mNameError\u001b[0m: name 'p_value_weather' is not defined"
     ]
    }
   ],
   "source": [
    "# Perform ANOVA\n",
    "f_stat, p_value_season = f_oneway(*season_groups)\n",
    "\n",
    "print(f\"p_value_weather < alpha: {p_value_season<0.05}\")\n",
    "print(\"reject the null hypothesis with p_value_weather :\",p_value_weather)\n",
    "\n",
    "# Decision:\n",
    "\n",
    "#     If p_value_season < alpha, reject the null hypothesis.\n",
    "#     If p_value_season >= alpha, fail to reject the null hypothesis.\n",
    "\n",
    "# Inference:\n",
    "\n",
    "#     If the null hypothesis is rejected, you can conclude that the number of \n",
    "#     cycles rented varies significantly across seasons."
   ]
  },
  {
   "cell_type": "markdown",
   "id": "99f5dd7b",
   "metadata": {},
   "source": [
    "Difference in the Number of Cycles Rented Across Different Weather Conditions (ANOVA):"
   ]
  },
  {
   "cell_type": "code",
   "execution_count": null,
   "id": "c6e6347b",
   "metadata": {},
   "outputs": [],
   "source": [
    "# Perform ANOVA\n",
    "f_stat_weather, p_value_weather = f_oneway(*weather_groups)\n",
    "\n",
    "print(f\"p_value_weather < alpha: {p_value_chi2<0.05}\")\n",
    "print(\"reject the null hypothesis with p_value_weather :\",p_value_weather)\n",
    "\n",
    "# Decision:\n",
    "\n",
    "#     If p_value_weather < alpha, reject the null hypothesis.\n",
    "#     If p_value_weather >= alpha, fail to reject the null hypothesis.\n",
    "\n",
    "# Inference:\n",
    "\n",
    "#     If the null hypothesis is rejected, you can conclude that the number of cycles rented \n",
    "#     varies significantly across weather conditions."
   ]
  },
  {
   "cell_type": "markdown",
   "id": "e1cdb67e",
   "metadata": {},
   "source": [
    " Dependency of Weather on Season (Chi-Square Test for Independence):"
   ]
  },
  {
   "cell_type": "code",
   "execution_count": null,
   "id": "7e3075d7",
   "metadata": {},
   "outputs": [],
   "source": [
    "# Significance Level (Alpha): Set a significance level (e.g., alpha = 0.05).\n",
    "\n",
    "# Create a contingency table for weather and season\n",
    "contingency_table = pd.crosstab(df['weather'], df['season'])\n",
    "\n",
    "# Perform chi-square test\n",
    "chi2_stat, p_value_chi2, _, _ = chi2_contingency(contingency_table)\n",
    "\n",
    "print(f\"p_value_chi2 < alpha: {p_value_chi2<0.05}\")\n",
    "print(\"reject the null hypothesis with p_value_chi2 :\",p_value_chi2)\n",
    "\n",
    "# Decision:\n",
    "\n",
    "#     If p_value_chi2 < alpha, reject the null hypothesis.\n",
    "#     If p_value_chi2 >= alpha, fail to reject the null hypothesis.\n",
    "\n",
    "# Inference:\n",
    "\n",
    "#     If the null hypothesis is rejected, \n",
    "#     you can conclude that there is a significant relationship between weather and season."
   ]
  },
  {
   "cell_type": "code",
   "execution_count": null,
   "id": "806db375",
   "metadata": {},
   "outputs": [],
   "source": []
  },
  {
   "cell_type": "code",
   "execution_count": null,
   "id": "e05c22a4",
   "metadata": {},
   "outputs": [],
   "source": []
  },
  {
   "cell_type": "code",
   "execution_count": null,
   "id": "6fe177ee",
   "metadata": {},
   "outputs": [],
   "source": []
  },
  {
   "cell_type": "code",
   "execution_count": null,
   "id": "2fc8de6b",
   "metadata": {},
   "outputs": [],
   "source": []
  },
  {
   "cell_type": "code",
   "execution_count": null,
   "id": "721c5598",
   "metadata": {},
   "outputs": [],
   "source": []
  },
  {
   "cell_type": "code",
   "execution_count": null,
   "id": "aa970ac1",
   "metadata": {},
   "outputs": [],
   "source": []
  }
 ],
 "metadata": {
  "kernelspec": {
   "display_name": "Python 3 (ipykernel)",
   "language": "python",
   "name": "python3"
  },
  "language_info": {
   "codemirror_mode": {
    "name": "ipython",
    "version": 3
   },
   "file_extension": ".py",
   "mimetype": "text/x-python",
   "name": "python",
   "nbconvert_exporter": "python",
   "pygments_lexer": "ipython3",
   "version": "3.10.9"
  }
 },
 "nbformat": 4,
 "nbformat_minor": 5
}
